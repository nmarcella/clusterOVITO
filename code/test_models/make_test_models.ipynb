{
 "cells": [
  {
   "cell_type": "code",
   "execution_count": 36,
   "metadata": {},
   "outputs": [],
   "source": [
    "import numpy as np\n",
    "from scipy.spatial import cKDTree\n",
    "from scipy.spatial.distance import cdist\n",
    "\n",
    "import numpy as np\n",
    "from scipy.spatial import cKDTree\n",
    "\n",
    "def read_xyz(filename):\n",
    "    # Read the xyz file which now contains atom types as integers (1, 2, 3)\n",
    "    with open(filename, 'r') as file:\n",
    "        lines = file.readlines()\n",
    "    \n",
    "    atom_count = int(lines[0].strip())\n",
    "    atoms = []\n",
    "    for line in lines[2:2 + atom_count]:\n",
    "        parts = line.strip().split()\n",
    "        atom_type = int(parts[0])  # Directly read the atom type as integer\n",
    "        atoms.append([atom_type, float(parts[1]), float(parts[2]), float(parts[3])])\n",
    "    return np.array(atoms)\n",
    "\n",
    "def write_xyz(atoms, filename):\n",
    "    # Mapping from numbers to atom symbols for output\n",
    "    number_to_symbol = {1: \"Pt\", 2: \"C\", 3: \"O\"}\n",
    "    \n",
    "    with open(filename, 'w') as file:\n",
    "        file.write(f\"{len(atoms)}\\n\")\n",
    "        file.write(\"Atoms with added C and O\\n\")\n",
    "        for atom in atoms:\n",
    "            symbol = number_to_symbol.get(atom[0], \"Unknown\")  # Convert number to symbol\n",
    "            file.write(f\"{symbol} {atom[1]:.5f} {atom[2]:.5f} {atom[3]:.5f}\\n\")\n",
    "\n",
    "def find_surface_atoms(atoms, cutoff=2.8, max_neighbors=12):\n",
    "    positions = atoms[:, 1:4]\n",
    "    tree = cKDTree(positions)\n",
    "    surface_atoms = []\n",
    "    for i, pos in enumerate(positions):\n",
    "        neighbors = tree.query_ball_point(pos, cutoff)\n",
    "        if len(neighbors) - 1 < max_neighbors:  # Exclude self in neighbor count\n",
    "            surface_atoms.append(i)\n",
    "    return surface_atoms\n",
    "\n",
    "def add_atoms(atoms, surface_indices, center, add_distances=(2, 1.5)):\n",
    "    new_atoms = list(atoms.copy())\n",
    "    positions = atoms[:, 1:4]\n",
    "    for idx in surface_indices:\n",
    "        normal_vector = positions[idx] - center\n",
    "        normal_vector /= np.linalg.norm(normal_vector)  # Normalize the vector\n",
    "        \n",
    "        # Add Carbon atom\n",
    "        c_position = positions[idx] + normal_vector * add_distances[0]\n",
    "        new_atoms.append([2, *c_position])  # '2' is the integer identifier for 'C'\n",
    "        \n",
    "        # Add Oxygen atom\n",
    "        o_position = c_position + normal_vector * add_distances[1]\n",
    "        new_atoms.append([3, *o_position])  # '3' is the integer identifier for 'O'\n",
    "    return np.array(new_atoms)\n",
    "\n",
    "# Parameters\n",
    "filename = 'coc561.xyz'\n",
    "output_filename = 'modified_particle_561.xyz'\n",
    "neighbor_cutoff = 3.5  # Appropriate cutoff distance for Pt-Pt in Ångstroms\n",
    "\n",
    "# Read, process, and write the new XYZ file\n",
    "atoms = read_xyz(filename)\n",
    "center = np.mean([atom[1:] for atom in atoms], axis=0)\n",
    "surface_indices = find_surface_atoms(atoms, cutoff=neighbor_cutoff)\n",
    "new_atoms = add_atoms(atoms, surface_indices, center)\n",
    "write_xyz(new_atoms, output_filename)\n"
   ]
  },
  {
   "cell_type": "code",
   "execution_count": 31,
   "metadata": {},
   "outputs": [
    {
     "data": {
      "text/plain": [
       "array([[ 1.        , 10.24401561, 12.26897253, 16.03154602],\n",
       "       [ 1.        , 12.25698371, 10.14655733, 16.12347563],\n",
       "       [ 1.        , 12.07435665, 11.95003914, 13.92421743],\n",
       "       ...,\n",
       "       [ 1.        , 25.93006523, 23.95365504, 20.08648208],\n",
       "       [ 1.        , 25.91991047, 22.06654208, 22.05667896],\n",
       "       [ 1.        , 25.73661178, 25.80297549, 18.03635779]])"
      ]
     },
     "execution_count": 31,
     "metadata": {},
     "output_type": "execute_result"
    }
   ],
   "source": [
    "atoms"
   ]
  },
  {
   "cell_type": "code",
   "execution_count": null,
   "metadata": {},
   "outputs": [],
   "source": []
  }
 ],
 "metadata": {
  "kernelspec": {
   "display_name": "OVITO",
   "language": "python",
   "name": "python3"
  },
  "language_info": {
   "codemirror_mode": {
    "name": "ipython",
    "version": 3
   },
   "file_extension": ".py",
   "mimetype": "text/x-python",
   "name": "python",
   "nbconvert_exporter": "python",
   "pygments_lexer": "ipython3",
   "version": "3.11.6"
  }
 },
 "nbformat": 4,
 "nbformat_minor": 2
}
