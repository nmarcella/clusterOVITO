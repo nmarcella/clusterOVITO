{
 "cells": [
  {
   "cell_type": "code",
   "execution_count": 1,
   "metadata": {},
   "outputs": [],
   "source": [
    "from functions import *"
   ]
  },
  {
   "cell_type": "code",
   "execution_count": 45,
   "metadata": {},
   "outputs": [],
   "source": [
    "###########################################\n",
    "\n",
    "traj_dir = '/mnt/a/MD_Trajectories/PtCO/NPs/continued/cubo_309/'\n",
    "traj_name = \"Pt309_cuboct_623K_4.all.bin\"\n",
    "\n",
    "#p_name = \"Pt309_cuboct_498K\"\n",
    "#input_dir = \"/mnt/a/MD_Trajectories/PtCO/NPs/Inputs/\"\n",
    "#input_dir = \"/mnt/sdcc/sdcc+u/nmarcella/MD_EXAFS_inputs/231228/\"\n",
    "\n",
    "\n",
    "###########################################\n",
    "traj_path = traj_dir + traj_name\n",
    "\n",
    "pipeline = import_file(traj_path)\n",
    "\n",
    "test_pl = MD_EXAFS_Analysis_Pipeline_PtCO(pipeline, file_params={\"framerange\": range(0,pipeline.source.num_frames,100),\"atoms\":{\"Pt\":1, \"C\":2, \"O\":3}, \"cutoff\":3}, custom_analysis_func=find_adsorbed_CO)\n",
    "#test_pl = MD_EXAFS_Binary_Pipeline_General(pipeline, file_params={\"framerange\": range(15999,16000),\"atoms\":{\"Pt\":1}, \"cutoff\":3})\n",
    "test_pl.run()\n",
    "\n",
    "data = test_pl.data\n",
    "n_atoms = test_pl.n_atoms_list"
   ]
  },
  {
   "cell_type": "code",
   "execution_count": 46,
   "metadata": {},
   "outputs": [],
   "source": [
    "n_atoms = np.array(n_atoms)\n",
    "n_co = np.mean(n_atoms[:,1])"
   ]
  },
  {
   "cell_type": "code",
   "execution_count": 47,
   "metadata": {},
   "outputs": [
    {
     "data": {
      "text/plain": [
       "<matplotlib.legend.Legend at 0x7f331f6f6d50>"
      ]
     },
     "execution_count": 47,
     "metadata": {},
     "output_type": "execute_result"
    },
    {
     "data": {
      "image/png": "[encoded data removed]",
      "text/plain": [
       "<Figure size 640x480 with 1 Axes>"
      ]
     },
     "metadata": {},
     "output_type": "display_data"
    }
   ],
   "source": [
    "colors = {\"148\":\"blue\", \"298\":\"orange\",\"398\":\"green\", \"498\":\"red\", \"623\":\"purple\"}\n",
    "#for i in [\"148\", \"298\", \"398\", \"498\", \"623\"]:\n",
    "\n",
    "plt.plot(n_atoms[:,1], label=\"298\", color=colors[\"298\"])\n",
    "plt.title(\"cubo 309 run 4\")\n",
    "plt.ylabel(\"number of adsorbed CO\")\n",
    "plt.xlabel(\"frames every 100\")\n",
    "plt.ylim(0,150)\n",
    "plt.legend()"
   ]
  },
  {
   "cell_type": "code",
   "execution_count": 49,
   "metadata": {},
   "outputs": [],
   "source": [
    "n_frames = len(data)\n",
    "\n",
    "new_array_top = []\n",
    "new_array_bridge = []\n",
    "new_array_multi = []\n",
    "\n",
    "for frame_data in data:\n",
    "\n",
    "    results = classify_and_find_distances_array(frame_data)\n",
    "\n",
    "    top_co = results[np.where(results[:, 1] == 1)[0]]\n",
    "    bridge_co = results[np.where(results[:, 1] == 2)[0]]\n",
    "    multi_co = results[np.where(results[:, 1] > 2)[0]]\n",
    "\n",
    "    \n",
    "    n_top = top_co.shape[0]\n",
    "    mean_top = np.mean(top_co[:,2])\n",
    "    std_top = np.std(top_co[:,2])\n",
    "\n",
    "    new_array_top.append([n_top, mean_top, std_top])\n",
    "\n",
    "    n_bridge = bridge_co.shape[0]\n",
    "    mean_bridge = np.mean(bridge_co[:,2])\n",
    "    std_bridge = np.std(bridge_co[:,2])\n",
    "\n",
    "    new_array_bridge.append([n_bridge, mean_bridge, std_bridge])\n",
    "\n",
    "    if len(multi_co)>0:\n",
    "        n_multi = multi_co.shape[0]\n",
    "        mean_multi = np.mean(multi_co[:,2])\n",
    "        std_multi = np.std(multi_co[:,2])\n",
    "\n",
    "        new_array_multi.append([n_multi, mean_multi, std_multi])\n",
    "    else:\n",
    "        new_array_multi.append([0, 0, 0])\n",
    "\n",
    "new_array_top = np.array(new_array_top)\n",
    "new_array_bridge = np.array(new_array_bridge)\n",
    "new_array_multi = np.array(new_array_multi)\n"
   ]
  },
  {
   "cell_type": "code",
   "execution_count": 39,
   "metadata": {},
   "outputs": [
    {
     "data": {
      "text/plain": [
       "1.1647807269248687"
      ]
     },
     "execution_count": 39,
     "metadata": {},
     "output_type": "execute_result"
    }
   ],
   "source": [
    "np.mean(new_array_top[:,1])"
   ]
  },
  {
   "cell_type": "code",
   "execution_count": 50,
   "metadata": {},
   "outputs": [
    {
     "data": {
      "text/plain": [
       "1.166213731454234"
      ]
     },
     "execution_count": 50,
     "metadata": {},
     "output_type": "execute_result"
    }
   ],
   "source": [
    "np.mean(new_array_top[:,1])"
   ]
  },
  {
   "cell_type": "code",
   "execution_count": 40,
   "metadata": {},
   "outputs": [
    {
     "data": {
      "text/plain": [
       "1.1838731748521656"
      ]
     },
     "execution_count": 40,
     "metadata": {},
     "output_type": "execute_result"
    }
   ],
   "source": [
    "np.mean(new_array_bridge[:,1])"
   ]
  },
  {
   "cell_type": "code",
   "execution_count": 51,
   "metadata": {},
   "outputs": [
    {
     "data": {
      "text/plain": [
       "1.1776503206790627"
      ]
     },
     "execution_count": 51,
     "metadata": {},
     "output_type": "execute_result"
    }
   ],
   "source": [
    "np.mean(new_array_bridge[:,1])"
   ]
  },
  {
   "cell_type": "code",
   "execution_count": 44,
   "metadata": {},
   "outputs": [
    {
     "data": {
      "text/plain": [
       "1.186435846479575"
      ]
     },
     "execution_count": 44,
     "metadata": {},
     "output_type": "execute_result"
    }
   ],
   "source": [
    "np.mean(new_array_multi[:,1][new_array_multi[:,1]>1])"
   ]
  },
  {
   "cell_type": "code",
   "execution_count": 52,
   "metadata": {},
   "outputs": [
    {
     "data": {
      "text/plain": [
       "1.190153196303171"
      ]
     },
     "execution_count": 52,
     "metadata": {},
     "output_type": "execute_result"
    }
   ],
   "source": [
    "np.mean(new_array_multi[:,1][new_array_multi[:,1]>1])"
   ]
  },
  {
   "cell_type": "code",
   "execution_count": null,
   "metadata": {},
   "outputs": [],
   "source": []
  }
 ],
 "metadata": {
  "kernelspec": {
   "display_name": "OVITO",
   "language": "python",
   "name": "python3"
  },
  "language_info": {
   "codemirror_mode": {
    "name": "ipython",
    "version": 3
   },
   "file_extension": ".py",
   "mimetype": "text/x-python",
   "name": "python",
   "nbconvert_exporter": "python",
   "pygments_lexer": "ipython3",
   "version": "3.11.6"
  }
 },
 "nbformat": 4,
 "nbformat_minor": 2
}
